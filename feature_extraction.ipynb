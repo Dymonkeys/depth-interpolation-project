{
 "cells": [
  {
   "cell_type": "markdown",
   "metadata": {},
   "source": [
    "# Feature Extraction"
   ]
  },
  {
   "cell_type": "code",
   "execution_count": 18,
   "metadata": {},
   "outputs": [],
   "source": [
    "import os\n",
    "import torch\n",
    "import torch.nn as nn\n",
    "import torchvision.models as models\n",
    "import torchvision.transforms as transforms\n",
    "from torchvision.datasets import ImageFolder\n",
    "from torch.utils.data import DataLoader "
   ]
  },
  {
   "cell_type": "code",
   "execution_count": 33,
   "metadata": {},
   "outputs": [],
   "source": [
    "# define image transformation\n",
    "transform = transforms.Compose([\n",
    "    transforms.Resize((352, 1216)),\n",
    "    transforms.ToTensor(),\n",
    "    transforms.Normalize(mean=[0.485, 0.456, 0.406], std=[0.229, 0.224, 0.225]) # why normalize?\n",
    "])"
   ]
  },
  {
   "cell_type": "code",
   "execution_count": 111,
   "metadata": {},
   "outputs": [],
   "source": [
    "# Set Directories\n",
    "base_dir = 'dataset'\n",
    "image_dir = os.path.join(base_dir, 'image')\n",
    "depth_dir = os.path.join(base_dir, 'groundtruth_depth')\n",
    "# Load Dataset\n",
    "dataset = ImageFolder(base_dir, transform=transform)\n",
    "dataloader = DataLoader(dataset, 32, False)\n",
    "#! currently the dataset holds both the images and the groundtruths, while it should only hold the images !"
   ]
  },
  {
   "cell_type": "code",
   "execution_count": 48,
   "metadata": {},
   "outputs": [],
   "source": [
    "\n",
    "def load_model(removed_layers = 1):\n",
    "    # Load Pre-Trained Model\n",
    "    model = models.resnet18(pretrained=True)\n",
    "    #model = model.to(\"cpu\")\n",
    "    #remove final connected layers from model\n",
    "    #model.fc = nn.Identity()\n",
    "    model = torch.nn.Sequential(*list(model.children())[:-removed_layers])\n",
    "    return model"
   ]
  },
  {
   "cell_type": "code",
   "execution_count": 103,
   "metadata": {},
   "outputs": [
    {
     "data": {
      "text/plain": [
       "torch.Size([2000, 512])"
      ]
     },
     "execution_count": 103,
     "metadata": {},
     "output_type": "execute_result"
    }
   ],
   "source": [
    "# Function to extract features\n",
    "def extract_features(dataloader, model = load_model(1)):\n",
    "    features = []\n",
    "    with torch.no_grad(): #Disables gradient calcullation\n",
    "        for inputs, _ in dataloader:\n",
    "            outputs = model(inputs)\n",
    "            features.append(outputs.flatten(1))\n",
    "    return torch.cat(features)\n",
    "\n",
    "features = extract_features(dataloader, load_model(1))\n",
    "features.shape"
   ]
  },
  {
   "cell_type": "markdown",
   "metadata": {},
   "source": [
    "# Reduce Dimensionality with LLE\n",
    "1 512\n",
    "2 214016\n",
    "3 428032"
   ]
  },
  {
   "cell_type": "code",
   "execution_count": 23,
   "metadata": {},
   "outputs": [],
   "source": [
    "import matplotlib.pyplot as plt\n",
    "from sklearn.manifold import LocallyLinearEmbedding"
   ]
  },
  {
   "cell_type": "code",
   "execution_count": 32,
   "metadata": {},
   "outputs": [
    {
     "data": {
      "text/plain": [
       "(torch.Size([2000, 512]), (2000, 150))"
      ]
     },
     "execution_count": 32,
     "metadata": {},
     "output_type": "execute_result"
    }
   ],
   "source": [
    "#Hyperparamaters!\n",
    "n_components = 150\n",
    "n_neighbors = 25\n",
    "lle = LocallyLinearEmbedding(n_components = n_components, n_neighbors = n_neighbors, method='standard')\n",
    "features_lle = lle.fit_transform(features)\n",
    "features.shape, features_lle.shape"
   ]
  }
 ],
 "metadata": {
  "kernelspec": {
   "display_name": "Python 3",
   "language": "python",
   "name": "python3"
  },
  "language_info": {
   "codemirror_mode": {
    "name": "ipython",
    "version": 3
   },
   "file_extension": ".py",
   "mimetype": "text/x-python",
   "name": "python",
   "nbconvert_exporter": "python",
   "pygments_lexer": "ipython3",
   "version": "3.12.3"
  }
 },
 "nbformat": 4,
 "nbformat_minor": 2
}
